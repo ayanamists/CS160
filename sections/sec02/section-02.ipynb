{
 "cells": [
  {
   "cell_type": "markdown",
   "source": [
    "# Section 2\n",
    "\n",
    "## Agenda\n",
    "\n",
    "- Review:\n",
    "  - Algebraic data types\n",
    "  - Let-expressions\n",
    "  - Currying\n",
    "  - Higher-order functions\n",
    "  - Recursion on trees\n",
    "\n",
    "- Assignment 1 Q&A"
   ],
   "metadata": {}
  },
  {
   "cell_type": "code",
   "execution_count": 1,
   "source": [
    "let hole () = failwith \"todo\"\n",
    ";;"
   ],
   "outputs": [],
   "metadata": {}
  },
  {
   "cell_type": "markdown",
   "source": [
    "## Algebraic Data Types\n",
    "\n",
    "Consider the data types defined in Q2:"
   ],
   "metadata": {}
  },
  {
   "cell_type": "code",
   "execution_count": 2,
   "source": [
    "(* Problem 2 *)\n",
    "type binop = Add | Sub | Mul | Div\n",
    "\n",
    "type expr = Const of int\n",
    "          | Binary of binop * expr * expr\n",
    ";;"
   ],
   "outputs": [],
   "metadata": {}
  },
  {
   "cell_type": "markdown",
   "source": [
    "- Both `binop` and `expr` are what's called *algebraic data types*, because they are constructed from sum types (`|`) and produce types (`*`), like how polynomials are constructed in mathematics (e.g. `f(x,y) = x*x + x*y + y*y*y`)\n",
    "\n",
    "- Each case in a sum type is called a *variant*. The labels (e.g. `Const`, `Binary`, `Add`, etc.) are called *constructors*.\n",
    "\n",
    "- Constructor are like functions!\n",
    "    - `Const` is like a one-argument function with type `int -> expr`\n",
    "    - `Binary` is like a three-argument function with type `binop * expr * expr -> expr`\n",
    "    - `Add`, `Sub`, `Mul`, `Div` are like zero-argument functions of type `binop`, which are just constants!"
   ],
   "metadata": {}
  },
  {
   "cell_type": "markdown",
   "source": [
    "## Let\n",
    "\n",
    "There are two kinds of `let` in OCaml:\n",
    "\n",
    "### I. Top-level let-bindings"
   ],
   "metadata": {}
  },
  {
   "cell_type": "code",
   "execution_count": 3,
   "source": [
    "(* Problem 1 *)\n",
    "\n",
    "let insert (k: 'k) (v: 'v) (al: ('k * 'v) list) : ('k * 'v) list =\n",
    "  (k,v) :: al\n",
    "\n",
    "let rec lookup_opt (k: 'k) (al: ('k * 'v) list) : 'v option =\n",
    "  match al with\n",
    "  | _ -> failwith \"Not yet implemented\" (* your code here *) \n",
    "\n",
    "\n",
    "(* Uncomment to test your solution *)\n",
    "let al = insert \"x\" 3 (insert \"y\" 2 (insert \"x\" 1 []))\n",
    "(* al is now [(\"x\", 3), (\"y\", 2), (\"x\", 1)] *)\n",
    "\n",
    "(* let _ = assert (lookup_opt \"z\" al = None)\n",
    "let _ = assert (lookup_opt \"y\" al = Some 2)\n",
    "let _ = assert (lookup_opt \"x\" al = Some 3) *)\n",
    ";;"
   ],
   "outputs": [],
   "metadata": {}
  },
  {
   "cell_type": "markdown",
   "source": [
    "In general, an OCaml program is a sequence of top-level `let` bindings (and `type` declarations)\n",
    "```ocaml\n",
    "let a = ...\n",
    "let rec f x = ...\n",
    "and g x y = ...\n",
    "let b = ...\n",
    "let _ = ...\n",
    "let _ = ...\n",
    "...\n",
    "```"
   ],
   "metadata": {}
  },
  {
   "cell_type": "markdown",
   "source": [
    "### II. Let-expressions, for creating local variables\n",
    "\n",
    "Common scenario:\n",
    "1. Compute\n",
    "2. Store temporary result\n",
    "3. Use the temporary result in subsequent computations\n",
    "\n",
    "In OCaml,\n",
    "```ocaml\n",
    "let tmp = computation () in more_computation tmp \n",
    "```\n",
    "\n",
    "More generally,\n",
    "```ocaml\n",
    "let <name> = <e> in <body>\n",
    "```\n",
    "\n",
    "To evaluate a let-expression:\n",
    "1. Evaluate `e`\n",
    "2. Bind the value of `e` to `name`\n",
    "3. Evaluate `body`, where `name` is available\n",
    "4. **The value of `body` becomes the value of the overall let-expression**"
   ],
   "metadata": {}
  },
  {
   "cell_type": "markdown",
   "source": [
    "**Exercise:** What is the value of the following expression?"
   ],
   "metadata": {}
  },
  {
   "cell_type": "code",
   "execution_count": 4,
   "source": [
    "(let x = 1 in x + 2) + 3\n",
    ";;"
   ],
   "outputs": [],
   "metadata": {
    "scrolled": true
   }
  },
  {
   "cell_type": "markdown",
   "source": [
    "---\n",
    "You can nest let-expressions!\n",
    "\n",
    "**Exercise:** What is the value of the following expression?"
   ],
   "metadata": {}
  },
  {
   "cell_type": "code",
   "execution_count": 5,
   "source": [
    "let x = 1 in\n",
    "let y = x * 2 in\n",
    "x + y\n",
    ";;"
   ],
   "outputs": [],
   "metadata": {}
  },
  {
   "cell_type": "markdown",
   "source": [
    "---\n",
    "\n",
    "The left-hand side of `let` can actually be a pattern!\n",
    "\n",
    "Q3 starter code:"
   ],
   "metadata": {}
  },
  {
   "cell_type": "code",
   "execution_count": 6,
   "source": [
    "(* Problem 3 *)\n",
    "type binop = Add | Sub | Mul | Div\n",
    "type expr = Const of int\n",
    "          | Binary of binop * expr * expr\n",
    "          | Id of string             (* new *)\n",
    "          | Let of string * expr     (* new *)\n",
    "          | Seq of expr list         (* new *)\n",
    "\n",
    "  \n",
    "type environment = (string * int) list\n",
    "\n",
    "let rec interpret (e: expr) : int =\n",
    "  let empty = [] in\n",
    "  let _, n = (interpret' e empty) in n\n",
    "\n",
    "and interpret' (e: expr) (env: environment) : (environment * int) =\n",
    "  match e with\n",
    "  | _ -> failwith \"Not yet implemented\" (* your code here *)\n",
    ";;"
   ],
   "outputs": [],
   "metadata": {}
  },
  {
   "cell_type": "markdown",
   "source": [
    "Pay attention to the line\n",
    "```ocaml\n",
    "let _, n = interpret' e empty in n\n",
    "```\n",
    "\n",
    "Here, \n",
    "\n",
    "- `interpret'` returns an `(environment * int)` pair\n",
    "\n",
    "- But `interpret` doesn't need the returned environment, so it matches the pair with the pattern `_, n`\n",
    "  - `_` matches the returned environment but throws it away\n",
    "\n",
    "- The return value of `interpret` is `n`"
   ],
   "metadata": {}
  },
  {
   "cell_type": "markdown",
   "source": [
    "**Exercise:** Replace the second line (`let _, n = interpret' e empty in n`) of `interpret` with a pattern match."
   ],
   "metadata": {}
  },
  {
   "cell_type": "code",
   "execution_count": 7,
   "source": [
    "let rec interpret (e: expr) : int =\n",
    "  let empty = [] in\n",
    "  (*   Solution   *)\n",
    "  match (interpret' e empty) with\n",
    "  | (_, n) -> n\n",
    ";;"
   ],
   "outputs": [],
   "metadata": {}
  },
  {
   "cell_type": "markdown",
   "source": [
    "## Currying\n",
    "\n",
    "Let us define the exponentiation function.\n",
    "\n",
    "**Question:** Without running the snippet below, tell us the type of `exp`."
   ],
   "metadata": {}
  },
  {
   "cell_type": "code",
   "execution_count": 8,
   "source": [
    "let rec exp base power =\n",
    "  if power = 0 then\n",
    "    1\n",
    "  else\n",
    "    base * exp base (power-1)\n",
    ";;"
   ],
   "outputs": [],
   "metadata": {
    "scrolled": true
   }
  },
  {
   "cell_type": "markdown",
   "source": [
    "Now consider an alternative definition, `exp'`.\n",
    "\n",
    "**Question:** What is the type of `exp'`?"
   ],
   "metadata": {}
  },
  {
   "cell_type": "code",
   "execution_count": 9,
   "source": [
    "let rec exp' pair =\n",
    "  let base, power = pair in\n",
    "  if power = 0 then\n",
    "    1\n",
    "  else\n",
    "    base * exp' (base, (power-1))\n",
    ";;"
   ],
   "outputs": [],
   "metadata": {}
  },
  {
   "cell_type": "markdown",
   "source": [
    "Note that `->` associates to the right, so the type of the curried version is actually `'a -> ('b -> 'c)`."
   ],
   "metadata": {}
  },
  {
   "cell_type": "markdown",
   "source": [
    "For any \"two-argument\" function (from arguments `'a` and `'b` to result `'c`), it really has two incarnations in OCaml:\n",
    "\n",
    "1. Uncurried: `('a * 'b) -> 'c`\n",
    "\n",
    "2. Curried: `'a -> 'b -> 'c`"
   ],
   "metadata": {}
  },
  {
   "cell_type": "markdown",
   "source": [
    "Thus, both the curried and the uncurried versions are technically one-argument functions!\n",
    "\n",
    "1. `('a * 'b) -> 'c` takes some input, and returns `'c`. The input has type `'a * 'b`\n",
    "\n",
    "2. `'a -> ('b -> 'c)` takes some input, and returns `'b -> 'c`. The input has type `'a`. The output is not a simple value, but a _function_ from `'b` to `'c`."
   ],
   "metadata": {}
  },
  {
   "cell_type": "markdown",
   "source": [
    "---\n",
    "**Exercise:** Implement:\n",
    "\n",
    "1. a (higher-order) function, called `uncurry`,  that converts curried functions to their uncurried form, and \n",
    "\n",
    "2. a function, called `curry`,  that converts uncurried functions to their curried form.\n",
    "\n",
    "\n",
    "What's the type of `uncurry`? What's the type of `curry`?"
   ],
   "metadata": {}
  },
  {
   "cell_type": "code",
   "execution_count": 10,
   "source": [
    "(*   Solution   *)\n",
    "\n",
    "let uncurry f p = let a,b = p in f a b\n",
    "\n",
    "let uncurry' f (a,b) = f a b\n",
    "\n",
    "let uncurry'' f = fun (a,b) -> f a b\n",
    ";;"
   ],
   "outputs": [],
   "metadata": {}
  },
  {
   "cell_type": "code",
   "execution_count": 11,
   "source": [
    "(*   Solution   *)\n",
    "\n",
    "let curry f a b = f (a,b)\n",
    "\n",
    "let curry' f = fun a -> fun b -> f (a,b)\n",
    "\n",
    "let curry'' f = fun a b -> f (a,b)\n",
    ";;"
   ],
   "outputs": [],
   "metadata": {}
  },
  {
   "cell_type": "markdown",
   "source": [
    "Consider the types of `uncurry` and `curry`:\n",
    "\n",
    "If you replace `*` with logical conjunction (`/\\`, aka logical AND), and `->` with logical implication (`==>`, aka logical IMPLY), you will get a boolean proposition! \n",
    "\n",
    "What are the truth values of the resulting propositions?"
   ],
   "metadata": {}
  },
  {
   "cell_type": "markdown",
   "source": [
    "### Interlude: Anonymous Functions\n",
    "Let's say we want to define our own version of the addition function:"
   ],
   "metadata": {}
  },
  {
   "cell_type": "code",
   "execution_count": 12,
   "source": [
    "let plus1 (x: int) (y: int) : int = x + y\n",
    ";;"
   ],
   "outputs": [],
   "metadata": {}
  },
  {
   "cell_type": "markdown",
   "source": [
    "Without type annotation, this is really just"
   ],
   "metadata": {}
  },
  {
   "cell_type": "code",
   "execution_count": 13,
   "source": [
    "let plus2 x y = x + y\n",
    ";;"
   ],
   "outputs": [],
   "metadata": {}
  },
  {
   "cell_type": "markdown",
   "source": [
    "But OCaml also lets us rewrite above as"
   ],
   "metadata": {}
  },
  {
   "cell_type": "code",
   "execution_count": 14,
   "source": [
    "let plus3 = fun x -> fun y -> x + y\n",
    ";;"
   ],
   "outputs": [],
   "metadata": {}
  },
  {
   "cell_type": "markdown",
   "source": [
    "which has a even nicer syntactic sugar:"
   ],
   "metadata": {}
  },
  {
   "cell_type": "code",
   "execution_count": 15,
   "source": [
    "let plus4 = fun x y -> x + y\n",
    ";;"
   ],
   "outputs": [],
   "metadata": {}
  },
  {
   "cell_type": "markdown",
   "source": [
    "Now the definition of the function is completely separated from its name!"
   ],
   "metadata": {}
  },
  {
   "cell_type": "code",
   "execution_count": 16,
   "source": [
    "(fun x y -> x + y) 5 6\n",
    ";;"
   ],
   "outputs": [],
   "metadata": {}
  },
  {
   "cell_type": "markdown",
   "source": [
    "This is extremely useful when you program with higher-order functions (e.g. `map`, `filter`, `fold`, etc), many of which take a function as input.\n",
    "\n",
    "But you often just want to construct the input function *ad hoc*, because that particular function won't ever be used again. Anonymous functions thus save you the labor of giving names, when those functions don't deserve a name.\n",
    "\n",
    "---\n",
    "A related note: curried functions are often better than their uncurried couterparts, because the curried version lets you do partial application, which is very useful in combination with higher-order functions."
   ],
   "metadata": {}
  },
  {
   "cell_type": "markdown",
   "source": [
    "## Higher-Order Functions"
   ],
   "metadata": {}
  },
  {
   "cell_type": "markdown",
   "source": [
    "To practice higher-order functions, a good exercise is actually to sit down, and try to write down their types and recursive definitions."
   ],
   "metadata": {}
  },
  {
   "cell_type": "markdown",
   "source": [
    "### Map\n",
    "\n",
    "What does `map` do, intuitively?\n",
    "\n",
    "What is the type of `map`?\n",
    "\n",
    "Can you write down the recursive definition of `map`?"
   ],
   "metadata": {}
  },
  {
   "cell_type": "code",
   "execution_count": 17,
   "source": [
    "List.map\n",
    ";;"
   ],
   "outputs": [],
   "metadata": {}
  },
  {
   "cell_type": "markdown",
   "source": [
    "**Exercise:** Fill in the hole to raise 2 to a list of powers:"
   ],
   "metadata": {}
  },
  {
   "cell_type": "code",
   "execution_count": 18,
   "source": [
    "let two_to_the ps =\n",
    "      (*   Solution   *)\n",
    "      List.map (fun p -> exp 2 p) ps\n",
    ";;"
   ],
   "outputs": [],
   "metadata": {}
  },
  {
   "cell_type": "code",
   "execution_count": 19,
   "source": [
    "assert (two_to_the [0; 1; 2; 3; 4] = [1; 2; 4; 8; 16])\n",
    ";;"
   ],
   "outputs": [],
   "metadata": {}
  },
  {
   "cell_type": "markdown",
   "source": [
    "We can simplify the definition of `two_to_the` even further!"
   ],
   "metadata": {}
  },
  {
   "cell_type": "code",
   "execution_count": 20,
   "source": [
    "let two_to_the' ps = List.map (exp 2) ps\n",
    "let two_to_the'' = List.map (exp 2)\n",
    ";;\n",
    "\n",
    "assert (two_to_the' [0; 1; 2; 3; 4] = [1; 2; 4; 8; 16])\n",
    ";;\n",
    "assert (two_to_the'' [0; 1; 2; 3; 4] = [1; 2; 4; 8; 16])\n",
    ";;"
   ],
   "outputs": [
    {
     "output_type": "execute_result",
     "data": {
      "text/plain": [
       "val two_to_the' : int list -> int list = <fun>\n"
      ]
     },
     "metadata": {},
     "execution_count": 20
    },
    {
     "output_type": "execute_result",
     "data": {
      "text/plain": [
       "val two_to_the'' : int list -> int list = <fun>\n"
      ]
     },
     "metadata": {},
     "execution_count": 20
    },
    {
     "output_type": "execute_result",
     "data": {
      "text/plain": [
       "- : unit = ()\n"
      ]
     },
     "metadata": {},
     "execution_count": 20
    },
    {
     "output_type": "execute_result",
     "data": {
      "text/plain": [
       "- : unit = ()\n"
      ]
     },
     "metadata": {},
     "execution_count": 20
    }
   ],
   "metadata": {}
  },
  {
   "cell_type": "markdown",
   "source": [
    "This is an alternative way to think of `map`.\n",
    "\n",
    "Given any function `f: 'a -> 'b`, `map` promotes `f` into a more powerful function!\n",
    "\n",
    "The new function `map f` now has the type `['a] -> ['b]`; it operates on the list version of its argument type and \n",
    "return type."
   ],
   "metadata": {}
  },
  {
   "cell_type": "markdown",
   "source": [
    "### Filter\n",
    "\n",
    "What does `filter` do, intuitively?\n",
    "\n",
    "What is the type of `filter`?\n",
    "\n",
    "Can you write down the recursive definition of `filter`?"
   ],
   "metadata": {}
  },
  {
   "cell_type": "code",
   "execution_count": 21,
   "source": [
    "let filter = List.filter\n",
    ";;"
   ],
   "outputs": [
    {
     "output_type": "execute_result",
     "data": {
      "text/plain": [
       "val filter : ('a -> bool) -> 'a list -> 'a list = <fun>\n"
      ]
     },
     "metadata": {},
     "execution_count": 21
    }
   ],
   "metadata": {}
  },
  {
   "cell_type": "markdown",
   "source": [
    "**Exercise:** \n",
    "Using `filter`, implement `positives`, which keeps only the positive integers in a list."
   ],
   "metadata": {}
  },
  {
   "cell_type": "code",
   "execution_count": 22,
   "source": [
    "(* val positives: int list -> int list *)\n",
    "let positives xs =\n",
    "    (*   Solution   *)\n",
    "    filter (fun x -> x > 0) xs\n",
    ";;"
   ],
   "outputs": [
    {
     "output_type": "execute_result",
     "data": {
      "text/plain": [
       "val positives : int list -> int list = <fun>\n"
      ]
     },
     "metadata": {},
     "execution_count": 22
    }
   ],
   "metadata": {}
  },
  {
   "cell_type": "code",
   "execution_count": 23,
   "source": [
    "assert (positives [2; -3; 5; -7; 11] = [2; 5; 11])\n",
    ";;"
   ],
   "outputs": [
    {
     "output_type": "execute_result",
     "data": {
      "text/plain": [
       "- : unit = ()\n"
      ]
     },
     "metadata": {},
     "execution_count": 23
    }
   ],
   "metadata": {}
  },
  {
   "cell_type": "markdown",
   "source": [
    "**Exercise:** Using `filter`, implement `partition`, which takes an input predicate and partitions a list into two lists, where elements of the first list satisifies the predicate while those of the second list does not."
   ],
   "metadata": {}
  },
  {
   "cell_type": "code",
   "execution_count": 24,
   "source": [
    "(* val partition : ('a -> bool) -> 'a list -> 'a list * 'a list *)\n",
    "let partition pred xs =\n",
    "    (*   Solution   *)\n",
    "    (filter (fun x -> pred x) xs, filter (fun x -> not (pred x)) xs)\n",
    ";;"
   ],
   "outputs": [
    {
     "output_type": "execute_result",
     "data": {
      "text/plain": [
       "val partition : ('a -> bool) -> 'a list -> 'a list * 'a list = <fun>\n"
      ]
     },
     "metadata": {},
     "execution_count": 24
    }
   ],
   "metadata": {}
  },
  {
   "cell_type": "code",
   "execution_count": 25,
   "source": [
    "assert (partition ((<) 0) [2; -3; 5; -7; 11] = ([2; 5; 11], [-3; -7]))\n",
    ";;"
   ],
   "outputs": [
    {
     "output_type": "execute_result",
     "data": {
      "text/plain": [
       "- : unit = ()\n"
      ]
     },
     "metadata": {},
     "execution_count": 25
    }
   ],
   "metadata": {}
  },
  {
   "cell_type": "markdown",
   "source": [
    "### Fold\n",
    "\n",
    "What does `fold` do, intuitively?\n",
    "\n",
    "What is the type of `fold`?\n",
    "\n",
    "Can you write down the recursive definition of `fold`?"
   ],
   "metadata": {}
  },
  {
   "cell_type": "code",
   "execution_count": 26,
   "source": [
    "let fold = List.fold_left\n",
    ";;"
   ],
   "outputs": [
    {
     "output_type": "execute_result",
     "data": {
      "text/plain": [
       "val fold : ('a -> 'b -> 'a) -> 'a -> 'b list -> 'a = <fun>\n"
      ]
     },
     "metadata": {},
     "execution_count": 26
    }
   ],
   "metadata": {}
  },
  {
   "cell_type": "markdown",
   "source": [
    "**Exercise:** Using `fold`, implement `sum` which sums an integer list."
   ],
   "metadata": {}
  },
  {
   "cell_type": "code",
   "execution_count": 27,
   "source": [
    "(* val sum : int list -> int *)\n",
    "let sum ns =\n",
    "    (*   Solution   *)\n",
    "    fold (+) 0 ns\n",
    ";;"
   ],
   "outputs": [
    {
     "output_type": "execute_result",
     "data": {
      "text/plain": [
       "val sum : int list -> int = <fun>\n"
      ]
     },
     "metadata": {},
     "execution_count": 27
    }
   ],
   "metadata": {}
  },
  {
   "cell_type": "code",
   "execution_count": 28,
   "source": [
    "assert (sum [1; -1; 2; -2; 3; -3; 4] = 4)\n",
    ";;"
   ],
   "outputs": [
    {
     "output_type": "execute_result",
     "data": {
      "text/plain": [
       "- : unit = ()\n"
      ]
     },
     "metadata": {},
     "execution_count": 28
    }
   ],
   "metadata": {}
  },
  {
   "cell_type": "markdown",
   "source": [
    "**Exercise:** Using `fold`, implement `rev` which reverses a list."
   ],
   "metadata": {}
  },
  {
   "cell_type": "code",
   "execution_count": 29,
   "source": [
    "(* val rev : 'a list -> 'a list *)\n",
    "let rev xs =\n",
    "    (*   Solution   *)\n",
    "    fold (fun acc x -> x :: acc) [] xs\n",
    ";;"
   ],
   "outputs": [
    {
     "output_type": "execute_result",
     "data": {
      "text/plain": [
       "val rev : 'a list -> 'a list = <fun>\n"
      ]
     },
     "metadata": {},
     "execution_count": 29
    }
   ],
   "metadata": {}
  },
  {
   "cell_type": "code",
   "execution_count": 30,
   "source": [
    "assert (rev [1;2;3;4;5] = [5;4;3;2;1])\n",
    ";;"
   ],
   "outputs": [
    {
     "output_type": "execute_result",
     "data": {
      "text/plain": [
       "- : unit = ()\n"
      ]
     },
     "metadata": {},
     "execution_count": 30
    }
   ],
   "metadata": {}
  },
  {
   "cell_type": "markdown",
   "source": [
    "**Exercise:** Using `fold`, implement `is_sorted` which tests if an integer list is sorted."
   ],
   "metadata": {}
  },
  {
   "cell_type": "code",
   "execution_count": 31,
   "source": [
    "let is_sorted (xs: int list) : bool =\n",
    "    (*   Solution   *)\n",
    "    let init = (true, Int.min_int) in\n",
    "    let f (sorted_acc, m) n = (sorted_acc && m <= n, n) in\n",
    "    let (sorted, _) = fold f init xs in\n",
    "    sorted\n",
    ";;"
   ],
   "outputs": [
    {
     "output_type": "execute_result",
     "data": {
      "text/plain": [
       "val is_sorted : int list -> bool = <fun>\n"
      ]
     },
     "metadata": {},
     "execution_count": 31
    }
   ],
   "metadata": {}
  },
  {
   "cell_type": "code",
   "execution_count": 32,
   "source": [
    "assert (is_sorted [1;2;3;4;5])\n",
    ";;"
   ],
   "outputs": [
    {
     "output_type": "execute_result",
     "data": {
      "text/plain": [
       "- : unit = ()\n"
      ]
     },
     "metadata": {},
     "execution_count": 32
    }
   ],
   "metadata": {}
  },
  {
   "cell_type": "markdown",
   "source": [
    "Note that the `fold` we are using is called `fold_left`. So naturally, there is also a `fold_right`!\n",
    "\n",
    "- Can you guess what `fold_right` does?\n",
    "\n",
    "- What do you think is the type of `fold_right`?\n",
    "\n",
    "- Can you write down a recursive definition of `fold_right`?\n",
    "\n",
    "- One of `fold_right` and `fold_left` is tail-recursive, while the other one is not. Which one is tail-recursive?"
   ],
   "metadata": {}
  },
  {
   "cell_type": "markdown",
   "source": [
    "### Recursion on trees\n",
    "\n",
    "**Exercise:**: Implement `nodes`, which counts the number of nodes (i.e. constructors) in an expression."
   ],
   "metadata": {}
  },
  {
   "cell_type": "code",
   "execution_count": 33,
   "source": [
    "let rec nodes (e: expr) : int =\n",
    "  (*   Solution   *)\n",
    "  match e with\n",
    "  | Const m -> 1\n",
    "  | Id y -> 1\n",
    "  | Binary (op, e1, e2) -> 1 + nodes e1 + nodes e2\n",
    "  | Let (y, e) -> 1 + nodes e\n",
    "  | Seq es -> sum (List.map nodes es)\n",
    ";;"
   ],
   "outputs": [
    {
     "output_type": "execute_result",
     "data": {
      "text/plain": [
       "val nodes : expr -> int = <fun>\n"
      ]
     },
     "metadata": {},
     "execution_count": 33
    }
   ],
   "metadata": {}
  },
  {
   "cell_type": "code",
   "execution_count": 34,
   "source": [
    "assert (nodes (Const 0) = 1)\n",
    ";;\n",
    "assert (nodes (Binary (Add, Const 0, Id \"x\")) = 3)\n",
    ";;"
   ],
   "outputs": [
    {
     "output_type": "execute_result",
     "data": {
      "text/plain": [
       "- : unit = ()\n"
      ]
     },
     "metadata": {},
     "execution_count": 34
    },
    {
     "output_type": "execute_result",
     "data": {
      "text/plain": [
       "- : unit = ()\n"
      ]
     },
     "metadata": {},
     "execution_count": 34
    }
   ],
   "metadata": {}
  },
  {
   "cell_type": "markdown",
   "source": [
    "**Exercise:**: Implement `subst`, which takes a string `x` and an expression `ex`, substitutes every occurrence of `Id x` with `ex` in an input expression."
   ],
   "metadata": {}
  },
  {
   "cell_type": "code",
   "execution_count": 35,
   "source": [
    "let rec subst (x: string) (ex: expr) (e: expr) : expr =\n",
    "  (*   Solution   *)\n",
    "  let recur = subst x ex in\n",
    "  match e with\n",
    "  | Const m -> e\n",
    "  | Id y -> if x = y then ex else e\n",
    "  | Binary (op, e1, e2) -> Binary (op, recur e1, recur e2)\n",
    "  | Let (y, e) -> Let (y, recur e)\n",
    "  | Seq es -> Seq (List.map recur es)\n",
    ";;"
   ],
   "outputs": [
    {
     "output_type": "execute_result",
     "data": {
      "text/plain": [
       "val subst : string -> expr -> expr -> expr = <fun>\n"
      ]
     },
     "metadata": {},
     "execution_count": 35
    }
   ],
   "metadata": {}
  },
  {
   "cell_type": "code",
   "execution_count": 36,
   "source": [
    "assert (subst \"x\" (Const 1) (Binary (Add, Id \"x\", Id \"x\")) = Binary (Add, Const 1, Const 1))\n",
    ";;\n",
    "assert (subst \"x\" (Id \"y\") (Seq [Id \"z\"; Id \"y\"; Id \"x\"]) = Seq [Id \"z\"; Id \"y\"; Id \"y\"])\n",
    ";;"
   ],
   "outputs": [
    {
     "output_type": "execute_result",
     "data": {
      "text/plain": [
       "- : unit = ()\n"
      ]
     },
     "metadata": {},
     "execution_count": 36
    },
    {
     "output_type": "execute_result",
     "data": {
      "text/plain": [
       "- : unit = ()\n"
      ]
     },
     "metadata": {},
     "execution_count": 36
    }
   ],
   "metadata": {}
  },
  {
   "cell_type": "markdown",
   "source": [
    "Notice how `nodes` and `subst` look awfully the same:\n",
    "1. In the base cases, they map the base case to a value of the return type.\n",
    "    - For `nodes`, it maps `Const` and `Id` to the integer 1.\n",
    "    - For `subst`, it maps `Const` to itself, and `Id` to the substituted expression if there is a match)\n",
    "\n",
    "\n",
    "2. In the recursive cases, they recurse on sub-expressions, after which they build a value of the return type with the results of recursing on the sub-expressions.\n",
    "    - For `nodes`, it simply sums the result of recursion on sub-expressions and adds 1.\n",
    "    - For `subst`, it reconstructs an `expr` using the same constructor and the result of recursion on sub-expressions.\n",
    "\n",
    "So there's a lot of code repetition here! In particular, both `nodes` and `subst` follows a pattern called *post-order traversal*, which you may have seen in your previous data structure course.\n",
    "\n",
    "Whenever we see code repetition in OCaml, we should think, \"Can we define a higher-order function (like `map` and `fold`) that distills the pattern / template / common-behavior?\"\n",
    "\n",
    "**A Very Challenging Exercise:** Write a higher-order function that distills the pattern examplified by `nodes` and `subst`. Then define new versions of `nodes` and `subst` in terms of the higher-order function you just wrote."
   ],
   "metadata": {}
  }
 ],
 "metadata": {
  "kernelspec": {
   "display_name": "OCaml cs160-sec",
   "language": "OCaml",
   "name": "ocaml-jupyter"
  },
  "language_info": {
   "codemirror_mode": "text/x-ocaml",
   "file_extension": ".ml",
   "mimetype": "text/x-ocaml",
   "name": "OCaml",
   "nbconverter_exporter": null,
   "pygments_lexer": "OCaml",
   "version": "4.11.0"
  }
 },
 "nbformat": 4,
 "nbformat_minor": 4
}