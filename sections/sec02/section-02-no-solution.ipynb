{
 "cells": [
  {
   "cell_type": "markdown",
   "metadata": {},
   "source": [
    "# Section 2\n",
    "\n",
    "## Agenda\n",
    "\n",
    "- Review:\n",
    "  - Algebraic data types\n",
    "  - Let-expressions\n",
    "  - Currying\n",
    "  - Higher-order functions\n",
    "  - Recursion on trees\n",
    "- Q&A"
   ]
  },
  {
   "cell_type": "code",
   "execution_count": 1,
   "metadata": {},
   "outputs": [
    {
     "data": {
      "text/plain": [
       "val hole : unit -> 'a = <fun>\n"
      ]
     },
     "execution_count": 1,
     "metadata": {},
     "output_type": "execute_result"
    }
   ],
   "source": [
    "let hole () = failwith \"todo\""
   ]
  },
  {
   "cell_type": "markdown",
   "metadata": {},
   "source": [
    "## Algebraic Data Types\n",
    "\n",
    "Consider the data types defined in Q2:"
   ]
  },
  {
   "cell_type": "code",
   "execution_count": null,
   "metadata": {},
   "outputs": [],
   "source": [
    "(* Problem 2 *)\n",
    "type binop = Add | Sub | Mul | Div\n",
    "\n",
    "type expr = Const of int\n",
    "          | Binary of binop * expr * expr\n",
    "          "
   ]
  },
  {
   "cell_type": "code",
   "execution_count": null,
   "metadata": {},
   "outputs": [],
   "source": [
    "let e: expr = Const 1\n",
    "\n",
    "\n",
    "\n",
    "\n",
    "\n",
    "\n",
    ";;\n",
    "match e with\n",
    "| Const n -> print_int n\n",
    "| Binary _ -> failwith \"Oops\""
   ]
  },
  {
   "cell_type": "markdown",
   "metadata": {},
   "source": [
    "## Let\n",
    "\n",
    "There are two kinds of `let` in OCaml:\n",
    "\n",
    "### I. Top-level let-bindings"
   ]
  },
  {
   "cell_type": "markdown",
   "metadata": {},
   "source": [
    "```ocaml\n",
    "(* Problem 1 *)\n",
    "\n",
    "let insert (k: 'k) (v: 'v) (al: ('k * 'v) list) : ('k * 'v) list =\n",
    "  (k,v) :: al\n",
    "\n",
    "let rec lookup_opt (k: 'k) (al: ('k * 'v) list) : 'v option =\n",
    "  match al with\n",
    "  | _ -> failwith \"Not yet implemented\" (* your code here *)\n",
    "\n",
    "\n",
    "(* Uncomment to test your solution *)\n",
    "let al = insert \"x\" 3 (insert \"y\" 2 (insert \"x\" 1 []))\n",
    "(* al is now [(\"x\", 3), (\"y\", 2), (\"x\", 1)] *)\n",
    "\n",
    "let _ = assert (lookup_opt \"z\" al = None)\n",
    "let _ = assert (lookup_opt \"y\" al = Some 2)\n",
    "let _ = assert (lookup_opt \"x\" al = Some 3)\n",
    "```"
   ]
  },
  {
   "cell_type": "markdown",
   "metadata": {},
   "source": [
    "### II. Let-expressions, for creating local variables\n",
    "\n",
    "```ocaml\n",
    "let tmp = f () in g tmp\n",
    "```"
   ]
  },
  {
   "cell_type": "markdown",
   "metadata": {},
   "source": [
    "More generally,\n",
    "```ocaml\n",
    "let <name> = e in <body>\n",
    "```\n",
    "\n",
    "Evaluation rules:\n",
    "1. eval e -> v\n",
    "2. name : v\n",
    "3. eval body with name -> v_body\n",
    "4. **v_let = v_body**\n"
   ]
  },
  {
   "cell_type": "markdown",
   "metadata": {},
   "source": [
    "**Exercise:** What is the value of the following expression?"
   ]
  },
  {
   "cell_type": "code",
   "execution_count": 2,
   "metadata": {},
   "outputs": [
    {
     "ename": "error",
     "evalue": "compile_error",
     "output_type": "error",
     "traceback": [
      "File \"[2]\", line 1, characters 24-25:\n1 | (let x = -1 in x + 2) + x\n                            ^\nError: Unbound value x\n"
     ]
    }
   ],
   "source": [
    "(let x = -1 in x + 2) + x"
   ]
  },
  {
   "cell_type": "markdown",
   "metadata": {},
   "source": [
    "---\n",
    "You can nest let-expressions!\n",
    "\n",
    "**Exercise:** What is the value of the following expression?"
   ]
  },
  {
   "cell_type": "code",
   "execution_count": null,
   "metadata": {},
   "outputs": [],
   "source": [
    "let x = 2 in\n",
    "let y = 4 in\n",
    "x + y"
   ]
  },
  {
   "cell_type": "markdown",
   "metadata": {},
   "source": [
    "Newer bindings can \"shadow\" older ones.\n",
    "\n",
    "**Exercise:** What is the value of the following expression?"
   ]
  },
  {
   "cell_type": "code",
   "execution_count": null,
   "metadata": {},
   "outputs": [],
   "source": [
    "let x = 1 in\n",
    "(let x = x + 1 in x) + x"
   ]
  },
  {
   "cell_type": "markdown",
   "metadata": {},
   "source": [
    "---\n",
    "\n",
    "The left-hand side of `let` can actually be a pattern!\n",
    "\n",
    "Q3 starter code:"
   ]
  },
  {
   "cell_type": "code",
   "execution_count": null,
   "metadata": {},
   "outputs": [],
   "source": [
    "(* Problem 3 *)\n",
    "type binop = Add | Sub | Mul | Div\n",
    "type expr = Const of int\n",
    "          | Binary of binop * expr * expr\n",
    "          | Id of string             (* new *)\n",
    "          | Let of string * expr     (* new *)\n",
    "          | Seq of expr list         (* new *)\n",
    "\n",
    "  \n",
    "type environment = (string * int) list\n",
    "\n",
    "let rec interpret (e: expr) : int =\n",
    "    let _, n = interpret' e [] in n\n",
    "\n",
    "and interpret' (e: expr) (env: environment) : (environment * int) =\n",
    "  failwith \"Not yet implemented\" (* your code here *)"
   ]
  },
  {
   "cell_type": "markdown",
   "metadata": {},
   "source": [
    "## Currying\n",
    "\n",
    "Let us define the exponentiation function.\n",
    "\n",
    "**Question:** What's the type of `exp`?"
   ]
  },
  {
   "cell_type": "code",
   "execution_count": 7,
   "metadata": {},
   "outputs": [
    {
     "data": {
      "text/plain": [
       "val exp : int -> int -> int = <fun>\n"
      ]
     },
     "execution_count": 7,
     "metadata": {},
     "output_type": "execute_result"
    }
   ],
   "source": [
    "let rec exp (base: int) (power: int) : int =\n",
    "  if power = 0 then\n",
    "    1\n",
    "  else\n",
    "    base * exp base (power-1)"
   ]
  },
  {
   "cell_type": "markdown",
   "metadata": {},
   "source": [
    "Now consider an alternative definition, `exp'`.\n",
    "\n",
    "**Question:** What is the type of `exp'`?"
   ]
  },
  {
   "cell_type": "code",
   "execution_count": null,
   "metadata": {},
   "outputs": [],
   "source": [
    "let rec exp' pair =\n",
    "    let base, power = pair in\n",
    "    if power = 0 then\n",
    "        1\n",
    "    else\n",
    "        base * exp' (base, power-1)"
   ]
  },
  {
   "cell_type": "markdown",
   "metadata": {},
   "source": [
    "If you have a bstract, mathematical function \"f\":\n",
    "- input: `'a` and `'b`\n",
    "- output: `'c`\n",
    "\n",
    "\"f\" has two incarnations as OCaml functions:\n",
    "1. `'a -> ('b -> 'c)`\n",
    "2. `('a * 'b) -> 'c`\n",
    "\n",
    "**Exercise:** Define `curry` and `uncurry` that convert one form to the other."
   ]
  },
  {
   "cell_type": "code",
   "execution_count": 3,
   "metadata": {},
   "outputs": [
    {
     "data": {
      "text/plain": [
       "val curry : 'a -> 'b = <fun>\n"
      ]
     },
     "execution_count": 3,
     "metadata": {},
     "output_type": "execute_result"
    },
    {
     "data": {
      "text/plain": [
       "val uncurry : 'a -> 'b = <fun>\n"
      ]
     },
     "execution_count": 3,
     "metadata": {},
     "output_type": "execute_result"
    }
   ],
   "source": [
    "(* curried form: 'a -> 'b -> 'c *)\n",
    "(* uncurried form: ('a * 'b) -> 'c *)\n",
    "\n",
    "let curry f = hole ()\n",
    "\n",
    "let uncurry g = hole ()"
   ]
  },
  {
   "cell_type": "markdown",
   "metadata": {},
   "source": [
    "### Curry-Howard Correspondence\n",
    "\n",
    "Transform\n",
    "\n",
    "```\n",
    "val curry : (('a * 'b) -> 'c) -> ('a -> 'b -> 'c)\n",
    "```\n",
    "\n",
    "to\n",
    "\n",
    "```\n",
    "Theorem Curry : ((A and B) implies C) implies (A implies (B implies C))\n",
    "```"
   ]
  },
  {
   "cell_type": "markdown",
   "metadata": {},
   "source": [
    "### Interlude: Anonymous Functions"
   ]
  },
  {
   "cell_type": "code",
   "execution_count": null,
   "metadata": {},
   "outputs": [],
   "source": [
    "let plus x y = x + y"
   ]
  },
  {
   "cell_type": "code",
   "execution_count": 4,
   "metadata": {},
   "outputs": [
    {
     "data": {
      "text/plain": [
       "- : int = 3\n"
      ]
     },
     "execution_count": 4,
     "metadata": {},
     "output_type": "execute_result"
    }
   ],
   "source": [
    "(fun x -> fun y -> x + y) 1 2"
   ]
  },
  {
   "cell_type": "code",
   "execution_count": null,
   "metadata": {},
   "outputs": [],
   "source": []
  },
  {
   "cell_type": "code",
   "execution_count": null,
   "metadata": {},
   "outputs": [],
   "source": []
  },
  {
   "cell_type": "markdown",
   "metadata": {},
   "source": [
    "## Higher-Order Functions"
   ]
  },
  {
   "cell_type": "markdown",
   "metadata": {},
   "source": [
    "### Map\n",
    "\n",
    "What does `map` do, intuitively?\n",
    "\n",
    "What is the type of `map`?\n",
    "\n",
    "Can you write down the recursive definition of `map`?"
   ]
  },
  {
   "cell_type": "code",
   "execution_count": 5,
   "metadata": {},
   "outputs": [
    {
     "data": {
      "text/plain": [
       "- : ('a -> 'b) -> 'a list -> 'b list = <fun>\n"
      ]
     },
     "execution_count": 5,
     "metadata": {},
     "output_type": "execute_result"
    }
   ],
   "source": [
    "List.map"
   ]
  },
  {
   "cell_type": "markdown",
   "metadata": {},
   "source": [
    "**Exercise:** Using a anonymous function, implement `two_to_the`, which raises 2 to a list of powers:"
   ]
  },
  {
   "cell_type": "code",
   "execution_count": 12,
   "metadata": {},
   "outputs": [
    {
     "data": {
      "text/plain": [
       "- : ('a -> 'b) -> 'a list -> 'b list = <fun>\n"
      ]
     },
     "execution_count": 12,
     "metadata": {},
     "output_type": "execute_result"
    }
   ],
   "source": [
    "List.map"
   ]
  },
  {
   "cell_type": "code",
   "execution_count": 10,
   "metadata": {},
   "outputs": [
    {
     "data": {
      "text/plain": [
       "val two_to_the : int list -> int list = <fun>\n"
      ]
     },
     "execution_count": 10,
     "metadata": {},
     "output_type": "execute_result"
    }
   ],
   "source": [
    "(* val two_to_the : int list -> int list *)\n",
    "let two_to_the ps = List.map (exp 2) ps"
   ]
  },
  {
   "cell_type": "code",
   "execution_count": 11,
   "metadata": {},
   "outputs": [
    {
     "data": {
      "text/plain": [
       "- : unit = ()\n"
      ]
     },
     "execution_count": 11,
     "metadata": {},
     "output_type": "execute_result"
    }
   ],
   "source": [
    "assert (two_to_the [0; 1; 2; 3; 4] = [1; 2; 4; 8; 16])"
   ]
  },
  {
   "cell_type": "markdown",
   "metadata": {},
   "source": [
    "### Filter\n",
    "\n",
    "What does `filter` do, intuitively?\n",
    "\n",
    "What is the type of `filter`?\n",
    "\n",
    "Can you write down the recursive definition of `filter`?"
   ]
  },
  {
   "cell_type": "code",
   "execution_count": null,
   "metadata": {},
   "outputs": [],
   "source": [
    "List.filter"
   ]
  },
  {
   "cell_type": "markdown",
   "metadata": {},
   "source": [
    "**Exercise:** \n",
    "Using `filter`, implement `positives`, which keeps only the positive integers in a list."
   ]
  },
  {
   "cell_type": "code",
   "execution_count": null,
   "metadata": {},
   "outputs": [],
   "source": [
    "(* val positives: int list -> int list *)\n",
    "let positives xs = List.filter (hole ()) xs"
   ]
  },
  {
   "cell_type": "code",
   "execution_count": null,
   "metadata": {},
   "outputs": [],
   "source": [
    "assert (positives [2; -3; 5; -7; 11] = [2; 5; 11])"
   ]
  },
  {
   "cell_type": "markdown",
   "metadata": {},
   "source": [
    "### Fold\n",
    "\n",
    "What does `fold` do, intuitively?\n",
    "\n",
    "What is the type of `fold`?\n",
    "\n",
    "Can you write down the recursive definition of `fold`?"
   ]
  },
  {
   "cell_type": "code",
   "execution_count": null,
   "metadata": {},
   "outputs": [],
   "source": [
    "let fold = List.fold_left"
   ]
  },
  {
   "cell_type": "markdown",
   "metadata": {},
   "source": [
    "**Exercise:** Using `fold`, implement `sum` which sums an integer list."
   ]
  },
  {
   "cell_type": "code",
   "execution_count": null,
   "metadata": {},
   "outputs": [],
   "source": [
    "(* val sum : int list -> int *)\n",
    "let sum ns = fold (hole ()) (hole ()) ns"
   ]
  },
  {
   "cell_type": "code",
   "execution_count": null,
   "metadata": {},
   "outputs": [],
   "source": [
    "assert (sum [1; -1; 2; -2; 3; -3; 4] = 4)"
   ]
  },
  {
   "cell_type": "markdown",
   "metadata": {},
   "source": [
    "**Exercise:** Using `fold`, implement `rev` which reverses a list."
   ]
  },
  {
   "cell_type": "code",
   "execution_count": null,
   "metadata": {},
   "outputs": [],
   "source": [
    "(* val rev : 'a list -> 'a list *)\n",
    "let rev xs = fold (hole ()) (hole ()) xs"
   ]
  },
  {
   "cell_type": "code",
   "execution_count": null,
   "metadata": {},
   "outputs": [],
   "source": [
    "assert (rev [1;2;3;4;5] = [5;4;3;2;1])"
   ]
  },
  {
   "cell_type": "code",
   "execution_count": null,
   "metadata": {
    "scrolled": false
   },
   "outputs": [],
   "source": [
    "right"
   ]
  },
  {
   "cell_type": "markdown",
   "metadata": {},
   "source": [
    "### Recursion on trees\n",
    "\n",
    "**Exercise:**: Implement `height`, which counts the number of nodes (i.e. constructors) in an expression."
   ]
  },
  {
   "cell_type": "code",
   "execution_count": null,
   "metadata": {},
   "outputs": [],
   "source": [
    "let rec height (e: expr) : int =\n",
    "  match e with\n",
    "  (*  base cases  *)\n",
    "  | Const m -> hole ()\n",
    "  | Id y -> hole ()\n",
    "  (*  recursive cases  *)\n",
    "  | Binary (op, e1, e2) -> hole ()\n",
    "  | Let (y, e) -> hole ()\n",
    "  | Seq es -> hole ()"
   ]
  },
  {
   "cell_type": "code",
   "execution_count": null,
   "metadata": {},
   "outputs": [],
   "source": [
    "assert (nodes (Const 0) = 0);;\n",
    "assert (nodes (Binary (Add, Const 0, Id \"x\")) = 3);;"
   ]
  },
  {
   "cell_type": "code",
   "execution_count": null,
   "metadata": {},
   "outputs": [],
   "source": [
    "**Exercise:**: Implement `subst`, which takes a string `x` and an expression `ex`, substitutes every occurrence of `Id x` with `ex` in an input expression."
   ]
  },
  {
   "cell_type": "code",
   "execution_count": null,
   "metadata": {},
   "outputs": [],
   "source": [
    "let rec subst (x: string) (ex: expr) (e: expr) : expr =\n",
    "  match e with\n",
    "  (*  base cases  *)\n",
    "  | Const m -> hole ()\n",
    "  | Id y -> hole ()\n",
    "  | Binary (op, e1, e2) -> hole ()\n",
    "  (*  recursive cases  *)\n",
    "  | Let (y, e) -> hole ()\n",
    "  | Seq es -> hole ()"
   ]
  },
  {
   "cell_type": "code",
   "execution_count": null,
   "metadata": {},
   "outputs": [],
   "source": [
    "assert (subst \"x\" (Const 1) (Binary (Add, Id \"x\", Id \"x\")) = Binary (Add, Const 1, Const 1));;\n",
    "assert (subst \"x\" (Id \"y\") (Seq [Id \"z\"; Id \"y\"; Id \"x\"]) = Seq [Id \"z\"; Id \"y\"; Id \"y\"]);;"
   ]
  },
  {
   "cell_type": "markdown",
   "metadata": {},
   "source": [
    "**A Very Challenging Exercise:** Write a higher-order function that distills the pattern examplified by `nodes` and `subst`. Then define new versions of `nodes` and `subst` in terms of the higher-order function you just wrote."
   ]
  },
  {
   "cell_type": "code",
   "execution_count": null,
   "metadata": {},
   "outputs": [],
   "source": []
  }
 ],
 "metadata": {
  "kernelspec": {
   "display_name": "OCaml cs160-sec",
   "language": "OCaml",
   "name": "ocaml-jupyter"
  },
  "language_info": {
   "codemirror_mode": "text/x-ocaml",
   "file_extension": ".ml",
   "mimetype": "text/x-ocaml",
   "name": "OCaml",
   "nbconverter_exporter": null,
   "pygments_lexer": "OCaml",
   "version": "4.11.0"
  }
 },
 "nbformat": 4,
 "nbformat_minor": 4
}
